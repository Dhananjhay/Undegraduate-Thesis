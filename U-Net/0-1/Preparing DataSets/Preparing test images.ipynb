{
 "cells": [
  {
   "cell_type": "code",
   "execution_count": 163,
   "id": "51152f2d",
   "metadata": {},
   "outputs": [],
   "source": [
    "from astropy.io import fits\n",
    "import matplotlib.pyplot as plt\n",
    "from astropy.wcs import WCS\n",
    "from regions import Regions\n",
    "import numpy as np\n",
    "from astropy import units as u\n",
    "from astropy.nddata import Cutout2D\n",
    "import os\n",
    "import random\n",
    "from random import seed\n",
    "import shutil\n",
    "from skimage.io import imread,imshow\n",
    "from skimage.transform import resize\n",
    "import shortuuid\n",
    "from tqdm import tqdm\n",
    "\n",
    "import warnings\n",
    "warnings.filterwarnings(\"ignore\")"
   ]
  },
  {
   "cell_type": "markdown",
   "id": "8fb963bb",
   "metadata": {},
   "source": [
    "# Renaming fits files"
   ]
  },
  {
   "cell_type": "code",
   "execution_count": 129,
   "id": "30f8cf6e",
   "metadata": {},
   "outputs": [],
   "source": [
    "# path = '../../../../../../Applications/PHYS499/Testing data files/'\n",
    "# data_ids =  next(os.walk(path))[2]\n",
    "# data_ids.remove('.DS_Store')"
   ]
  },
  {
   "cell_type": "code",
   "execution_count": 131,
   "id": "567294c7",
   "metadata": {},
   "outputs": [],
   "source": [
    "# for filename in data_ids:\n",
    "#     source = f'{path}{filename}'\n",
    "#     dest = f'{path}{filename[:-30]}'\n",
    "#     os.rename(source,dest)"
   ]
  },
  {
   "cell_type": "markdown",
   "id": "a653c5d4",
   "metadata": {},
   "source": [
    "# Getting data"
   ]
  },
  {
   "cell_type": "code",
   "execution_count": 149,
   "id": "b067f646",
   "metadata": {},
   "outputs": [],
   "source": [
    "data_ids =  next(os.walk(path))[2]\n",
    "data_ids.remove('.DS_Store')"
   ]
  },
  {
   "cell_type": "code",
   "execution_count": 166,
   "id": "8f9082c5",
   "metadata": {},
   "outputs": [],
   "source": [
    "path = '../../../../../../Applications/PHYS499'\n",
    "testing_path = f'{path}/Testing'\n",
    "if (os.path.exists(testing_path)):\n",
    "    shutil.rmtree(testing_path)\n",
    "    os.makedirs(testing_path)"
   ]
  },
  {
   "cell_type": "code",
   "execution_count": 167,
   "id": "3b1fe9f7",
   "metadata": {},
   "outputs": [],
   "source": [
    "def cutter(filename,dim):\n",
    "    path = '../../../../../../Applications/PHYS499'\n",
    "    hdul_path = f'{path}/Testing data files/{filename}'\n",
    "    hdul = fits.open(hdul_path)\n",
    "    if hdul[0].data == None:\n",
    "        data = hdul[1].data\n",
    "        header = hdul[1].header\n",
    "    parent_folder = f'{path}/Testing/{filename}'\n",
    "    os.mkdir(parent_folder)\n",
    "    \n",
    "    original_folder = f'{parent_folder}/original/'\n",
    "    os.mkdir(original_folder)\n",
    "\n",
    "    #Perform coordinate transforamtion:\n",
    "    wcs = WCS(header)\n",
    "    \n",
    "    x_upper_lim = header['NAXIS1']\n",
    "    y_upper_lim = header['NAXIS2']\n",
    "    num_alongx = int(x_upper_lim/dim)\n",
    "    num_alongy = int(y_upper_lim/dim)\n",
    "\n",
    "    \n",
    "    x_center = []\n",
    "    y_center = []\n",
    "    \n",
    "    for i in np.linspace(1,num_alongx,num_alongx):\n",
    "        x_center.append((2*i-1)*(dim/2))\n",
    "        \n",
    "    for j in np.linspace(1,num_alongy,num_alongy):\n",
    "        y_center.append((2*j-1)*(dim/2))\n",
    "\n",
    "    for n in x_center:\n",
    "        for m in y_center:\n",
    "            position = (n, m)\n",
    "            size = u.Quantity((dim,dim), u.pixel)\n",
    "            cutout = Cutout2D(data,position,size)\n",
    "            if np.any(cutout.data) != False:\n",
    "                plt.imshow(cutout.data,vmin=0,vmax=7)\n",
    "                plt.gca().set_axis_off() # responsible for removing axes.\n",
    "                plt.savefig(f'{original_folder}/cutout_{n,m}.png',bbox_inches='tight',pad_inches = 0)\n",
    "                plt.clf()\n"
   ]
  },
  {
   "cell_type": "code",
   "execution_count": 168,
   "id": "90d4c1d0",
   "metadata": {},
   "outputs": [
    {
     "name": "stderr",
     "output_type": "stream",
     "text": [
      "100%|███████████████████████████████████████████| 14/14 [02:00<00:00,  8.61s/it]\n"
     ]
    },
    {
     "data": {
      "text/plain": [
       "<Figure size 640x480 with 0 Axes>"
      ]
     },
     "metadata": {},
     "output_type": "display_data"
    }
   ],
   "source": [
    "for filename in tqdm(data_ids,total=len(data_ids)):\n",
    "    dim=150\n",
    "    cutter(filename,dim)"
   ]
  }
 ],
 "metadata": {
  "kernelspec": {
   "display_name": "Python 3 (ipykernel)",
   "language": "python",
   "name": "python3"
  },
  "language_info": {
   "codemirror_mode": {
    "name": "ipython",
    "version": 3
   },
   "file_extension": ".py",
   "mimetype": "text/x-python",
   "name": "python",
   "nbconvert_exporter": "python",
   "pygments_lexer": "ipython3",
   "version": "3.9.6"
  }
 },
 "nbformat": 4,
 "nbformat_minor": 5
}

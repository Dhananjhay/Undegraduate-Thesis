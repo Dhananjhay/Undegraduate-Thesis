{
 "cells": [
  {
   "cell_type": "code",
   "execution_count": 25,
   "id": "d6ffa1cd",
   "metadata": {},
   "outputs": [],
   "source": [
    "import matplotlib.pyplot as plt\n",
    "import numpy as np\n",
    "import os\n",
    "import random\n",
    "from random import seed\n",
    "from skimage.io import imread,imshow\n",
    "from skimage.transform import resize\n",
    "from tqdm import tqdm\n",
    "import tensorflow as tf\n",
    "import tensorboard\n",
    "from keras.models import Model, load_model\n",
    "from keras.layers import Input, BatchNormalization, Activation, Dense, Dropout\n",
    "from keras.layers.convolutional import Conv2D, Conv2DTranspose\n",
    "from keras.layers.pooling import MaxPooling2D, GlobalMaxPool2D\n",
    "from keras.layers import concatenate, add\n",
    "from keras.callbacks import EarlyStopping, ModelCheckpoint\n",
    "from keras.optimizers import Adam\n",
    "from keras import backend as K"
   ]
  },
  {
   "cell_type": "markdown",
   "id": "81db4970",
   "metadata": {},
   "source": [
    "# Jaccard Coefficients"
   ]
  },
  {
   "cell_type": "code",
   "execution_count": 26,
   "id": "9bc76574",
   "metadata": {},
   "outputs": [],
   "source": [
    "def jaccard_coef(y_true,y_pred):\n",
    "    y_true_f = K.flatten(y_true)\n",
    "    y_pred_f = K.flatten(y_pred)\n",
    "    intersection = K.sum(y_true_f*y_pred_f)\n",
    "    output = (intersection + 1.0)/(K.sum(y_true_f) + K.sum(y_pred_f) - intersection + 1.0)\n",
    "    return output\n",
    "\n",
    "\n",
    "def jaccard_coef_loss(y_true,y_pred):\n",
    "    return -jaccard_coef(y_true,y_pred)"
   ]
  },
  {
   "cell_type": "markdown",
   "id": "d946cbf7",
   "metadata": {},
   "source": [
    "# U-NET Architecture"
   ]
  },
  {
   "cell_type": "code",
   "execution_count": 27,
   "id": "9df4a789",
   "metadata": {},
   "outputs": [],
   "source": [
    "def conv2d_block(input_tensor, n_filters, dropout=0.1,kernel_size=3,batchnorm=True):\n",
    "    \"\"\"Function to add 2 convolutional layers with the parameters passed to it\"\"\"\n",
    "    #first layer\n",
    "    x = Conv2D(filters = n_filters, kernel_size= (kernel_size,kernel_size),\n",
    "               kernel_initializer = 'he_normal',padding='same')(input_tensor)\n",
    "    if batchnorm:\n",
    "        x = BatchNormalization()(x)\n",
    "    x = Activation('relu')(x)\n",
    "    \n",
    "    #Middle Layer\n",
    "    x = Dropout(dropout)(x)\n",
    "    \n",
    "    #second layer\n",
    "    x = Conv2D(filters = n_filters, kernel_size = (kernel_size,kernel_size),\n",
    "              kernel_initializer='he_normal',padding='same')(input_tensor)\n",
    "    \n",
    "    if batchnorm:\n",
    "        x = BatchNormalization()(x)\n",
    "    x = Activation('relu')(x)\n",
    "    \n",
    "    return x\n"
   ]
  },
  {
   "cell_type": "code",
   "execution_count": 28,
   "id": "ea614864",
   "metadata": {},
   "outputs": [],
   "source": [
    "def get_unet(input_img,n_filters = 16,batchnorm = True):\n",
    "    \n",
    "    #Contracting Path\n",
    "    c1 = conv2d_block(input_img,n_filters*1,kernel_size=3, batchnorm=batchnorm)\n",
    "    p1 = MaxPooling2D((2,2))(c1)\n",
    "    \n",
    "    c2 = conv2d_block(p1,n_filters*2,kernel_size=3, batchnorm=batchnorm)\n",
    "    p2 = MaxPooling2D((2,2))(c2)\n",
    "    \n",
    "    c3 = conv2d_block(p2,n_filters*4,kernel_size=3, batchnorm=batchnorm)\n",
    "    p3 = MaxPooling2D((2,2))(c3)\n",
    "    \n",
    "    c4 = conv2d_block(p3,n_filters*8,dropout=0.2,kernel_size=3, batchnorm=batchnorm)\n",
    "    p4 = MaxPooling2D((2,2))(c4)\n",
    "\n",
    "    c5 = conv2d_block(p4,n_filters=n_filters*16,dropout=0.3, kernel_size=3, batchnorm=batchnorm)\n",
    "\n",
    "    #Expansive path\n",
    "    u6 = Conv2DTranspose(n_filters*8,(3,3),strides= (2,2),padding='same')(c5)\n",
    "    u6 = concatenate([u6,c4])\n",
    "    c6 = conv2d_block(u6,n_filters*8,kernel_size=3,batchnorm=batchnorm)\n",
    "    \n",
    "    u7 = Conv2DTranspose(n_filters*4,(3,3),strides= (2,2),padding='same')(c6)\n",
    "    u7 = concatenate([u7,c3])\n",
    "    c7 = conv2d_block(u7,n_filters*4,kernel_size=3,batchnorm=batchnorm)\n",
    "    \n",
    "    u8 = Conv2DTranspose(n_filters*2,(3,3),strides= (2,2),padding='same')(c7)\n",
    "    u8 = concatenate([u8,c2])\n",
    "    c8 = conv2d_block(u8,n_filters*4,kernel_size=3,batchnorm=batchnorm)\n",
    "    \n",
    "    u9 = Conv2DTranspose(n_filters*1,(3,3),strides= (2,2),padding='same')(c8)\n",
    "    u9 = concatenate([u9,c1])\n",
    "    c9 = conv2d_block(u9,n_filters*1,kernel_size=3,batchnorm=batchnorm)\n",
    "\n",
    "    outputs = Conv2D(1,(1,1),activation='sigmoid')(c9)\n",
    "    model = Model(inputs=[input_img],outputs=[outputs])\n",
    "    return model\n"
   ]
  },
  {
   "cell_type": "code",
   "execution_count": 29,
   "id": "9d91113d",
   "metadata": {},
   "outputs": [],
   "source": [
    "def unet_model_with_jaccard(IMG_WIDTH,IMG_HEIGHT,IMG_CHANNELS):\n",
    "    \n",
    "    inputs = Input((IMG_WIDTH,IMG_HEIGHT,IMG_CHANNELS))\n",
    "    input_image = tf.keras.layers.Lambda(lambda x:x/255)(inputs)\n",
    "    model = get_unet(input_image,n_filters=16,batchnorm=True)\n",
    "    model.compile(optimizer='adam',loss=[jaccard_coef_loss],metrics=[jaccard_coef])\n",
    "    model.summary()\n",
    "    return model"
   ]
  }
 ],
 "metadata": {
  "kernelspec": {
   "display_name": "Python 3 (ipykernel)",
   "language": "python",
   "name": "python3"
  },
  "language_info": {
   "codemirror_mode": {
    "name": "ipython",
    "version": 3
   },
   "file_extension": ".py",
   "mimetype": "text/x-python",
   "name": "python",
   "nbconvert_exporter": "python",
   "pygments_lexer": "ipython3",
   "version": "3.9.6"
  }
 },
 "nbformat": 4,
 "nbformat_minor": 5
}
